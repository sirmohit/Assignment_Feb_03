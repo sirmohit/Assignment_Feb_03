{
 "cells": [
  {
   "cell_type": "markdown",
   "id": "0a45c987",
   "metadata": {},
   "source": [
    "#Q1. Which keyword is used to create a function? Create a function to return a list of odd numbers in the\n",
    "     range of 1 to 25."
   ]
  },
  {
   "cell_type": "markdown",
   "id": "b10b45d7",
   "metadata": {},
   "source": [
    "Ans: def keyword is used to create a function. "
   ]
  },
  {
   "cell_type": "code",
   "execution_count": 1,
   "id": "51d84141",
   "metadata": {},
   "outputs": [
    {
     "data": {
      "text/plain": [
       "[1, 3, 5, 7, 9, 11, 13, 15, 17, 19, 21, 23, 25]"
      ]
     },
     "execution_count": 1,
     "metadata": {},
     "output_type": "execute_result"
    }
   ],
   "source": [
    "#  function to return a list of odd numbers in the range of 1 to 25.\n",
    "def lst_odd_num():\n",
    "    lst = []\n",
    "    for i in range(1,26):\n",
    "        if i%2 != 0:\n",
    "            lst.append(i)\n",
    "    return lst\n",
    "lst_odd_num()\n",
    "        "
   ]
  },
  {
   "cell_type": "code",
   "execution_count": 2,
   "id": "2f2422a8",
   "metadata": {},
   "outputs": [
    {
     "name": "stdout",
     "output_type": "stream",
     "text": [
      "[1, 3, 5, 7, 9, 11, 13, 15, 17, 19, 21, 23, 25]\n"
     ]
    }
   ],
   "source": [
    "#  function to return a list of odd numbers in the range of 1 to 25 using list comprehension.\n",
    "def lst_odd_num():\n",
    "    lst = [i for i in range(1,26) if i %2!=0]\n",
    "    print(lst)\n",
    "lst_odd_num()"
   ]
  },
  {
   "cell_type": "markdown",
   "id": "f286f139",
   "metadata": {},
   "source": [
    "Q2. Why **args and ***kwargs is used in some functions? Create a function each for **args and ***kwargs\n",
    "    to demonstrate their use."
   ]
  },
  {
   "cell_type": "markdown",
   "id": "4524853b",
   "metadata": {},
   "source": [
    "Ans: *args and **kwargs are used in function when we are not sure about the number of arguments to be pass in the function.\n",
    "     *args which allow us to pass the variable number of non keyword arguments to function.\n",
    "     arguments are passed as a tuple and these passed arguments make tuple inside the function with same name as the parameter\n",
    "     excluding asterisk *\n",
    "        \n",
    "    In the function, we use the double asterisk ** before the parameter name to denote this type of argument. The arguments\n",
    "    are passed as a dictionary and these arguments make a dictionary inside function with name same as the parameter excluding\n",
    "    double asterisk **.   "
   ]
  },
  {
   "cell_type": "markdown",
   "id": "406bafad",
   "metadata": {},
   "source": [
    "# EXAMPLE OF *args"
   ]
  },
  {
   "cell_type": "code",
   "execution_count": 3,
   "id": "8e00b88a",
   "metadata": {},
   "outputs": [
    {
     "name": "stdout",
     "output_type": "stream",
     "text": [
      "Multiply: 15\n",
      "Multiply: 840\n"
     ]
    }
   ],
   "source": [
    "def multi(*num):\n",
    "    mul = 1\n",
    "    \n",
    "    for n in num:\n",
    "        mul= mul * n\n",
    "\n",
    "    print(\"Multiply:\",mul)\n",
    "\n",
    "multi(3,5)\n",
    "multi(4,5,6,7)"
   ]
  },
  {
   "cell_type": "markdown",
   "id": "fb0193f7",
   "metadata": {},
   "source": [
    "# EXAMPLE OF **kwargs"
   ]
  },
  {
   "cell_type": "code",
   "execution_count": 4,
   "id": "2e0e54f8",
   "metadata": {},
   "outputs": [
    {
     "name": "stdout",
     "output_type": "stream",
     "text": [
      "name ram\n",
      "age 23\n",
      "dept CS\n",
      "name syam\n",
      "dept IT\n"
     ]
    }
   ],
   "source": [
    "def info_person(**info):\n",
    "    for key,value in info.items(): \n",
    "        print(key,value)\n",
    "info_person(name =\"ram\",age = 23,dept = \"CS\")\n",
    "info_person(name =\"syam\",dept = \"IT\")"
   ]
  },
  {
   "cell_type": "markdown",
   "id": "0dc8d591",
   "metadata": {},
   "source": [
    "Q3. What is an iterator in python? Name the method used to initialise the iterator object and the method\n",
    "    used for iteration. Use these methods to print the first five elements of the given list [2, 4, 6, 8, 10, 12, 14,\n",
    "    16, 18, 20]."
   ]
  },
  {
   "cell_type": "markdown",
   "id": "66c5114b",
   "metadata": {},
   "source": [
    "Ans:- Iterator: An iterator is an object in python.\n",
    "                Iterator allows you to traverse through all the elements of a collection (like a list, tuple, set, etc.) \n",
    "                one by one without having to access the elements using an index. \n",
    "                It provides a way to access the elements sequentially.\n",
    "                \n",
    "      Method which are use to initialise the iterator object are\n",
    "      a) iter()\n",
    "        \n",
    "     The method used for iteration is\n",
    "      a) next()\n",
    "        \n",
    "        \n",
    "                "
   ]
  },
  {
   "cell_type": "code",
   "execution_count": 5,
   "id": "dfce65c3",
   "metadata": {},
   "outputs": [
    {
     "name": "stdout",
     "output_type": "stream",
     "text": [
      "2\n",
      "4\n",
      "6\n",
      "8\n",
      "10\n"
     ]
    }
   ],
   "source": [
    "# methods to print the first five elements of the given list [2, 4, 6, 8, 10, 12, 14, 16, 18, 20]\n",
    "# Initialize the iterator object\n",
    "lst = [2, 4, 6, 8, 10, 12, 14, 16, 18, 20]\n",
    "iterator = iter(lst)\n",
    "\n",
    "# Iterate and print the first five elements using next()\n",
    "for _ in range(5):\n",
    "    print(next(iterator))\n"
   ]
  },
  {
   "cell_type": "markdown",
   "id": "2129a0e7",
   "metadata": {},
   "source": [
    "Q4. What is a generator function in python? Why yield keyword is used? Give an example of a generator\n",
    "function."
   ]
  },
  {
   "cell_type": "markdown",
   "id": "f29ff86e",
   "metadata": {},
   "source": [
    "Ans:-A generator function in Python is a special type of function that generates values on-the-fly rather than storing them in memory.\n",
    "     Unlike regular functions that return a value and then exit.\n",
    "    \n",
    "     The 'yield' keyword is used in a generator function to temporarily suspend execution and return a value to the caller. "
   ]
  },
  {
   "cell_type": "code",
   "execution_count": 6,
   "id": "b225950b",
   "metadata": {},
   "outputs": [
    {
     "name": "stdout",
     "output_type": "stream",
     "text": [
      "<generator object gen at 0x0000020488BB50B0>\n",
      "12\n",
      "23\n",
      "34\n",
      "45\n",
      "23\n"
     ]
    }
   ],
   "source": [
    "def gen(l1):\n",
    "    for i in l1:\n",
    "         yield(i) # here \"yied\"act as a generator\n",
    "l1 = [12,23,34,45,23]\n",
    "print(gen(l1))\n",
    "for i in gen(l1):# printing the value by generator function\n",
    "    print(i)"
   ]
  },
  {
   "cell_type": "markdown",
   "id": "4a855366",
   "metadata": {},
   "source": [
    "Q5. Create a generator function for prime numbers less than 1000. Use the next() method to print the\n",
    "first 20 prime numbers."
   ]
  },
  {
   "cell_type": "code",
   "execution_count": 7,
   "id": "954273a0",
   "metadata": {},
   "outputs": [
    {
     "name": "stdout",
     "output_type": "stream",
     "text": [
      "2\n",
      "3\n",
      "5\n",
      "7\n",
      "11\n",
      "13\n",
      "17\n",
      "19\n",
      "23\n",
      "29\n",
      "31\n",
      "37\n",
      "41\n",
      "43\n",
      "47\n",
      "53\n",
      "59\n",
      "61\n",
      "67\n",
      "71\n"
     ]
    }
   ],
   "source": [
    "def prime_gen():\n",
    "    sieve = [True] * 1000\n",
    "    sieve[0], sieve[1] = False, False  \n",
    "\n",
    "    for i in range(2, int(1000 ** 0.5) + 1):\n",
    "        if sieve[i]:\n",
    "            for j in range(i * i, 1000, i):\n",
    "                sieve[j] = False\n",
    "\n",
    "    for i in range(2, 1000):\n",
    "        if sieve[i]:\n",
    "            yield i\n",
    "\n",
    "prime_g = prime_gen()\n",
    "\n",
    "for _ in range(20):\n",
    "    print(next(prime_g))\n"
   ]
  },
  {
   "cell_type": "markdown",
   "id": "e01944c6",
   "metadata": {},
   "source": [
    "Q6. Write a python program to print the first 10 Fibonacci numbers using a while loop."
   ]
  },
  {
   "cell_type": "code",
   "execution_count": 8,
   "id": "5036d3df",
   "metadata": {},
   "outputs": [
    {
     "name": "stdout",
     "output_type": "stream",
     "text": [
      "0 1 1 2 3 5 8 13 21 34 "
     ]
    }
   ],
   "source": [
    "\n",
    "a, b = 0, 1\n",
    "count = 0\n",
    "while count < 10:\n",
    "    print(a, end=\" \")  \n",
    "    a, b = b, a + b    \n",
    "    count += 1           \n"
   ]
  },
  {
   "cell_type": "markdown",
   "id": "f0887f0d",
   "metadata": {},
   "source": [
    "Q7. Write a List Comprehension to iterate through the given string: ‘pwskills’.\n",
    "Expected output: ['p', 'w', 's', 'k', 'i', 'l', 'l', 's']"
   ]
  },
  {
   "cell_type": "code",
   "execution_count": 9,
   "id": "6924e5bd",
   "metadata": {},
   "outputs": [
    {
     "name": "stdout",
     "output_type": "stream",
     "text": [
      "['p', 'w', 's', 'k', 'i', 'l', 'l', 's']\n"
     ]
    }
   ],
   "source": [
    "\n",
    "str = 'pwskills'\n",
    "result = [ch for ch in str if ch in 'pwskills']\n",
    "print(result)\n"
   ]
  },
  {
   "cell_type": "markdown",
   "id": "e4b3739e",
   "metadata": {},
   "source": [
    "Q8. Write a python program to check whether a given number is Palindrome or not using a while loop."
   ]
  },
  {
   "cell_type": "code",
   "execution_count": 10,
   "id": "29a2db32",
   "metadata": {},
   "outputs": [
    {
     "name": "stdout",
     "output_type": "stream",
     "text": [
      "Enter a number: 121\n",
      "121 is a palindrome.\n"
     ]
    }
   ],
   "source": [
    "def is_palindrome(number):\n",
    "    original_number = number\n",
    "\n",
    "    reverse_number = 0\n",
    "    while number > 0:\n",
    "        remainder = number % 10\n",
    "        reverse_number = (reverse_number * 10) + remainder\n",
    "        number = number // 10\n",
    "    if original_number == reverse_number:\n",
    "        return True\n",
    "    else:\n",
    "        return False\n",
    "num = int(input(\"Enter a number: \"))\n",
    "\n",
    "if is_palindrome(num):\n",
    "    print(f\"{num} is a palindrome.\")\n",
    "else:\n",
    "    print(f\"{num} is not a palindrome.\")\n"
   ]
  },
  {
   "cell_type": "markdown",
   "id": "923d69da",
   "metadata": {},
   "source": [
    "Q9. Write a code to print odd numbers from 1 to 100 using list comprehension."
   ]
  },
  {
   "cell_type": "code",
   "execution_count": 11,
   "id": "735386bd",
   "metadata": {},
   "outputs": [
    {
     "name": "stdout",
     "output_type": "stream",
     "text": [
      "[1, 3, 5, 7, 9, 11, 13, 15, 17, 19, 21, 23, 25, 27, 29, 31, 33, 35, 37, 39, 41, 43, 45, 47, 49, 51, 53, 55, 57, 59, 61, 63, 65, 67, 69, 71, 73, 75, 77, 79, 81, 83, 85, 87, 89, 91, 93, 95, 97, 99]\n"
     ]
    }
   ],
   "source": [
    "odd_num = [i for i in range(1, 101) if i % 2 != 0]\n",
    "print(odd_num)\n"
   ]
  },
  {
   "cell_type": "code",
   "execution_count": null,
   "id": "9cabf773",
   "metadata": {},
   "outputs": [],
   "source": []
  }
 ],
 "metadata": {
  "kernelspec": {
   "display_name": "Python 3 (ipykernel)",
   "language": "python",
   "name": "python3"
  },
  "language_info": {
   "codemirror_mode": {
    "name": "ipython",
    "version": 3
   },
   "file_extension": ".py",
   "mimetype": "text/x-python",
   "name": "python",
   "nbconvert_exporter": "python",
   "pygments_lexer": "ipython3",
   "version": "3.9.13"
  }
 },
 "nbformat": 4,
 "nbformat_minor": 5
}
